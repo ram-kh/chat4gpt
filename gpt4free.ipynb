{
  "nbformat": 4,
  "nbformat_minor": 0,
  "metadata": {
    "colab": {
      "provenance": [],
      "include_colab_link": true
    },
    "kernelspec": {
      "name": "python3",
      "display_name": "Python 3"
    },
    "language_info": {
      "name": "python"
    },
    "widgets": {
      "application/vnd.jupyter.widget-state+json": {
        "38f9633094814052944a4c2ba7b0c322": {
          "model_module": "@jupyter-widgets/controls",
          "model_name": "PasswordModel",
          "model_module_version": "1.5.0",
          "state": {
            "_dom_classes": [],
            "_model_module": "@jupyter-widgets/controls",
            "_model_module_version": "1.5.0",
            "_model_name": "PasswordModel",
            "_view_count": null,
            "_view_module": "@jupyter-widgets/controls",
            "_view_module_version": "1.5.0",
            "_view_name": "PasswordView",
            "continuous_update": true,
            "description": "Poe-token:",
            "description_tooltip": null,
            "disabled": false,
            "layout": "IPY_MODEL_23c1ec1e82734c18873734f77c512362",
            "placeholder": "Enter your poe-token",
            "style": "IPY_MODEL_e459d07dc51f425194dfaf2d514e2e44",
            "value": ""
          }
        },
        "23c1ec1e82734c18873734f77c512362": {
          "model_module": "@jupyter-widgets/base",
          "model_name": "LayoutModel",
          "model_module_version": "1.2.0",
          "state": {
            "_model_module": "@jupyter-widgets/base",
            "_model_module_version": "1.2.0",
            "_model_name": "LayoutModel",
            "_view_count": null,
            "_view_module": "@jupyter-widgets/base",
            "_view_module_version": "1.2.0",
            "_view_name": "LayoutView",
            "align_content": null,
            "align_items": null,
            "align_self": null,
            "border": null,
            "bottom": null,
            "display": null,
            "flex": null,
            "flex_flow": null,
            "grid_area": null,
            "grid_auto_columns": null,
            "grid_auto_flow": null,
            "grid_auto_rows": null,
            "grid_column": null,
            "grid_gap": null,
            "grid_row": null,
            "grid_template_areas": null,
            "grid_template_columns": null,
            "grid_template_rows": null,
            "height": null,
            "justify_content": null,
            "justify_items": null,
            "left": null,
            "margin": null,
            "max_height": null,
            "max_width": null,
            "min_height": null,
            "min_width": null,
            "object_fit": null,
            "object_position": null,
            "order": null,
            "overflow": null,
            "overflow_x": null,
            "overflow_y": null,
            "padding": null,
            "right": null,
            "top": null,
            "visibility": null,
            "width": null
          }
        },
        "e459d07dc51f425194dfaf2d514e2e44": {
          "model_module": "@jupyter-widgets/controls",
          "model_name": "DescriptionStyleModel",
          "model_module_version": "1.5.0",
          "state": {
            "_model_module": "@jupyter-widgets/controls",
            "_model_module_version": "1.5.0",
            "_model_name": "DescriptionStyleModel",
            "_view_count": null,
            "_view_module": "@jupyter-widgets/base",
            "_view_module_version": "1.2.0",
            "_view_name": "StyleView",
            "description_width": "initial"
          }
        },
        "4149fcd5036b4032b1816e92eb60ecd7": {
          "model_module": "@jupyter-widgets/controls",
          "model_name": "ButtonModel",
          "model_module_version": "1.5.0",
          "state": {
            "_dom_classes": [],
            "_model_module": "@jupyter-widgets/controls",
            "_model_module_version": "1.5.0",
            "_model_name": "ButtonModel",
            "_view_count": null,
            "_view_module": "@jupyter-widgets/controls",
            "_view_module_version": "1.5.0",
            "_view_name": "ButtonView",
            "button_style": "success",
            "description": "Save Poe-token",
            "disabled": false,
            "icon": "check",
            "layout": "IPY_MODEL_8273be7e852b4a0eb03892b4c20b7036",
            "style": "IPY_MODEL_f1ed5959b1ab42dbb0409d182f1c9264",
            "tooltip": "Click to save the entered poe-token to an environment variable"
          }
        },
        "8273be7e852b4a0eb03892b4c20b7036": {
          "model_module": "@jupyter-widgets/base",
          "model_name": "LayoutModel",
          "model_module_version": "1.2.0",
          "state": {
            "_model_module": "@jupyter-widgets/base",
            "_model_module_version": "1.2.0",
            "_model_name": "LayoutModel",
            "_view_count": null,
            "_view_module": "@jupyter-widgets/base",
            "_view_module_version": "1.2.0",
            "_view_name": "LayoutView",
            "align_content": null,
            "align_items": null,
            "align_self": null,
            "border": null,
            "bottom": null,
            "display": null,
            "flex": null,
            "flex_flow": null,
            "grid_area": null,
            "grid_auto_columns": null,
            "grid_auto_flow": null,
            "grid_auto_rows": null,
            "grid_column": null,
            "grid_gap": null,
            "grid_row": null,
            "grid_template_areas": null,
            "grid_template_columns": null,
            "grid_template_rows": null,
            "height": null,
            "justify_content": null,
            "justify_items": null,
            "left": null,
            "margin": null,
            "max_height": null,
            "max_width": null,
            "min_height": null,
            "min_width": null,
            "object_fit": null,
            "object_position": null,
            "order": null,
            "overflow": null,
            "overflow_x": null,
            "overflow_y": null,
            "padding": null,
            "right": null,
            "top": null,
            "visibility": null,
            "width": null
          }
        },
        "f1ed5959b1ab42dbb0409d182f1c9264": {
          "model_module": "@jupyter-widgets/controls",
          "model_name": "ButtonStyleModel",
          "model_module_version": "1.5.0",
          "state": {
            "_model_module": "@jupyter-widgets/controls",
            "_model_module_version": "1.5.0",
            "_model_name": "ButtonStyleModel",
            "_view_count": null,
            "_view_module": "@jupyter-widgets/base",
            "_view_module_version": "1.2.0",
            "_view_name": "StyleView",
            "button_color": null,
            "font_weight": ""
          }
        }
      }
    }
  },
  "cells": [
    {
      "cell_type": "markdown",
      "metadata": {
        "id": "view-in-github",
        "colab_type": "text"
      },
      "source": [
        "<a href=\"https://colab.research.google.com/github/ram-kh/chat4gpt/blob/main/gpt4free.ipynb\" target=\"_parent\"><img src=\"https://colab.research.google.com/assets/colab-badge.svg\" alt=\"Open In Colab\"/></a>"
      ]
    },
    {
      "cell_type": "markdown",
      "source": [
        "# **[GPT4free Jupyter Notebook (leave a star)](https://github.com/DanielShemesh/gpt4free-colab/)**\n",
        "\n",
        "This program is licensed under the GNU GPL v3.\n",
        "\n",
        "&copy; 2023 Made by [Daniel Shemesh](https://github.com/DanielShemesh).\n",
        "  \n",
        "This Jupyter Notebook contains code written by [Daniel Shemesh](https://github.com/DanielShemesh). It is based on work from the GitHub repository by xtekky ([GPT4free](https://github.com/xtekky/gpt4free/)). The code in this notebook is released under the terms of the GNU General Public License v3, which allows for free redistribution and modification of the code in accordance with the terms of the license.\n",
        "\n",
        "## Disclaimer\n",
        "\n",
        "This repository uses third-party APIs and AI models and is not associated with or endorsed by the API providers or the original developers of the models. This project is intended for educational purposes only.\n",
        "\n",
        "Please note the following:\n",
        "\n",
        "**Disclaimer**: The APIs, services, and trademarks mentioned in this repository belong to their respective owners. This project is not claiming any right over them.\n",
        "\n",
        "**Responsibility**: The author of this repository is not responsible for any consequences arising from the use or misuse of this repository or the content provided by the third-party APIs and any damage or losses caused by users' actions.\n",
        "\n",
        "**Educational Purposes Only**: This repository and its content are provided strictly for educational purposes. By using the information and code provided, users acknowledge that they are using the APIs and models at their own risk and agree to comply with any applicable laws and regulations.\n"
      ],
      "metadata": {
        "id": "-dgsCWj894Jf"
      }
    },
    {
      "cell_type": "code",
      "execution_count": null,
      "metadata": {
        "id": "wbnrfNtOMW78",
        "collapsed": true,
        "cellView": "form"
      },
      "outputs": [],
      "source": [
        "#@markdown #Install requirements\n",
        "\n",
        "%%capture captured_output\n",
        "\n",
        "!git clone https://github.com/xtekky/gpt4free\n",
        "%cd gpt4free\n",
        "!mv testing/* ./\n",
        "!pip install -r requirements.txt\n",
        "!pip install ipywidgets"
      ]
    },
    {
      "cell_type": "markdown",
      "source": [
        "#Instructions\n",
        "##Poe/Quora\n",
        "* Sign up to [Poe](https://www.poe.com) and head over to the site\n",
        "* ctrl+shift+i to open developer console\n",
        "* Go to Application -> Cookies -> https://poe.com\n",
        "* Find the **p-b** cookie and copy its value, this will be your **Poe-token**"
      ],
      "metadata": {
        "id": "gITVWcGo2coc"
      }
    },
    {
      "cell_type": "code",
      "source": [
        "#@markdown #Define secrets\n",
        "\n",
        "import os\n",
        "import ipywidgets as widgets\n",
        "from IPython.display import display\n",
        "\n",
        "def create_input_widget(word):\n",
        "    widget = widgets.Password(\n",
        "        value='',\n",
        "        placeholder=f'Enter your {word}',\n",
        "        description=f'{word.capitalize()}:',\n",
        "        disabled=False,\n",
        "        style={'description_width': 'initial'}\n",
        "    )\n",
        "    return widget\n",
        "\n",
        "def create_save_button(word, widget):\n",
        "    button = widgets.Button(\n",
        "        description=f'Save {word.capitalize()}',\n",
        "        disabled=False,\n",
        "        button_style='success',\n",
        "        tooltip=f'Click to save the entered {word} to an environment variable',\n",
        "        icon='check'\n",
        "    )\n",
        "    button.on_click(lambda b: save_word(word, widget))\n",
        "    return button\n",
        "\n",
        "def save_word(word, widget):\n",
        "    os.environ[f'SECRET_{word.upper()}'] = widget.value\n",
        "    print(f\"{word.capitalize()} saved successfully!\")\n",
        "\n",
        "def create_input_and_save_button(word):\n",
        "    widget = create_input_widget(word)\n",
        "    button = create_save_button(word, widget)\n",
        "    display(widget)\n",
        "    display(button)\n",
        "\n",
        "create_input_and_save_button('poe-token')"
      ],
      "metadata": {
        "id": "olblQNP9VhZf",
        "colab": {
          "base_uri": "https://localhost:8080/",
          "height": 100,
          "referenced_widgets": [
            "38f9633094814052944a4c2ba7b0c322",
            "23c1ec1e82734c18873734f77c512362",
            "e459d07dc51f425194dfaf2d514e2e44",
            "4149fcd5036b4032b1816e92eb60ecd7",
            "8273be7e852b4a0eb03892b4c20b7036",
            "f1ed5959b1ab42dbb0409d182f1c9264"
          ]
        },
        "cellView": "form",
        "outputId": "692df19b-c69b-4524-e2b3-6e2005f1d00a"
      },
      "execution_count": null,
      "outputs": [
        {
          "output_type": "display_data",
          "data": {
            "text/plain": [
              "Password(description='Poe-token:', placeholder='Enter your poe-token', style=DescriptionStyle(description_widt…"
            ],
            "application/vnd.jupyter.widget-view+json": {
              "version_major": 2,
              "version_minor": 0,
              "model_id": "38f9633094814052944a4c2ba7b0c322"
            }
          },
          "metadata": {}
        },
        {
          "output_type": "display_data",
          "data": {
            "text/plain": [
              "Button(button_style='success', description='Save Poe-token', icon='check', style=ButtonStyle(), tooltip='Click…"
            ],
            "application/vnd.jupyter.widget-view+json": {
              "version_major": 2,
              "version_minor": 0,
              "model_id": "4149fcd5036b4032b1816e92eb60ecd7"
            }
          },
          "metadata": {}
        },
        {
          "output_type": "stream",
          "name": "stdout",
          "text": [
            "Poe-token saved successfully!\n"
          ]
        }
      ]
    },
    {
      "cell_type": "code",
      "source": [
        "from markdown_it import MarkdownIt\n",
        "from IPython.core.display import HTML\n",
        "\n",
        "import quora\n",
        "import os\n",
        "from time import sleep\n",
        "\n",
        "token = os.environ['SECRET_POE-TOKEN']\n",
        "\n",
        "#@markdown Choose a model and type your prompt\n",
        "model = \"gpt-4\"  # @param ['gpt-3.5-turbo', 'gpt-4', 'sage', 'claude-v1.2', 'claude-instant-v1.0']\n",
        "prompt = \"write a java function that prints the nth fibonacci number. provide example usage\" #@param {type: \"string\"}\n",
        "#@markdown Checking this will result in a live response\n",
        "streaming_response = False #@param {type: \"boolean\"}\n",
        "#@markdown Render Markdown in normal response (will not work in streaming response)\n",
        "render_markdown = True #@param {type: \"boolean\"}\n",
        "#@markdown Enable Chat Mode\n",
        "chat_mode = True #@param {type: \"boolean\"}\n",
        "\n",
        "def generate_completion(prompt):\n",
        "    response = quora.Completion.create(model=model, prompt=prompt, token=token)\n",
        "    return response.completion.choices[0].text\n",
        "\n",
        "if streaming_response and chat_mode:\n",
        "    while True:\n",
        "        user_input = input(\"You: \")\n",
        "        response = quora.StreamingCompletion.create(custom_model=model, prompt=user_input, token=token)\n",
        "        text = response.completion.choices[0].text\n",
        "\n",
        "        if render_markdown:\n",
        "            md = MarkdownIt()\n",
        "            html = md.render(text)\n",
        "            display(HTML(html))\n",
        "        else:\n",
        "            print(text)\n",
        "elif streaming_response and not chat_mode:\n",
        "    for response in quora.StreamingCompletion.create(custom_model=model, prompt=prompt, token=token):\n",
        "        text = response.completion.choices[0].text\n",
        "        print(text)\n",
        "elif chat_mode:\n",
        "    while True:\n",
        "        user_input = input(\"You: \")\n",
        "        text = generate_completion(user_input)\n",
        "\n",
        "        if render_markdown:\n",
        "            md = MarkdownIt()\n",
        "            html = md.render(text)\n",
        "            display(HTML(html))\n",
        "        else:\n",
        "            print(text)\n",
        "else:\n",
        "    text = generate_completion(prompt)\n",
        "\n",
        "    if render_markdown:\n",
        "        md = MarkdownIt()\n",
        "        html = md.render(text)\n",
        "        display(HTML(html))\n",
        "    else:\n",
        "        print(text)"
      ],
      "metadata": {
        "colab": {
          "base_uri": "https://localhost:8080/",
          "height": 863
        },
        "cellView": "form",
        "id": "IqH8o-WRpAqY",
        "outputId": "6d95e21c-4d7e-405e-9e78-3ed9ef1fbb24"
      },
      "execution_count": null,
      "outputs": [
        {
          "output_type": "stream",
          "name": "stderr",
          "text": [
            "WARNING:root:Server returned a status code of 404 while downloading https://poe.com/_next/data/yTDUB_hCavgeEifyloWMf/NeevaAI.json. Retrying (1/10)...\n",
            "WARNING:root:Server returned a status code of 404 while downloading https://poe.com/_next/data/yTDUB_hCavgeEifyloWMf/NeevaAI.json. Retrying (2/10)...\n",
            "WARNING:root:Server returned a status code of 404 while downloading https://poe.com/_next/data/yTDUB_hCavgeEifyloWMf/NeevaAI.json. Retrying (3/10)...\n",
            "WARNING:root:Server returned a status code of 404 while downloading https://poe.com/_next/data/yTDUB_hCavgeEifyloWMf/NeevaAI.json. Retrying (4/10)...\n",
            "WARNING:root:Server returned a status code of 404 while downloading https://poe.com/_next/data/yTDUB_hCavgeEifyloWMf/NeevaAI.json. Retrying (5/10)...\n",
            "WARNING:root:Server returned a status code of 404 while downloading https://poe.com/_next/data/yTDUB_hCavgeEifyloWMf/NeevaAI.json. Retrying (6/10)...\n",
            "WARNING:root:Server returned a status code of 404 while downloading https://poe.com/_next/data/yTDUB_hCavgeEifyloWMf/NeevaAI.json. Retrying (7/10)...\n",
            "WARNING:root:Server returned a status code of 404 while downloading https://poe.com/_next/data/yTDUB_hCavgeEifyloWMf/NeevaAI.json. Retrying (8/10)...\n",
            "WARNING:root:Server returned a status code of 404 while downloading https://poe.com/_next/data/yTDUB_hCavgeEifyloWMf/NeevaAI.json. Retrying (9/10)...\n",
            "WARNING:root:Server returned a status code of 404 while downloading https://poe.com/_next/data/yTDUB_hCavgeEifyloWMf/NeevaAI.json. Retrying (10/10)...\n",
            "Exception in thread Thread-47:\n",
            "Traceback (most recent call last):\n",
            "  File \"/usr/lib/python3.9/threading.py\", line 980, in _bootstrap_inner\n",
            "    self.run()\n",
            "  File \"/usr/lib/python3.9/threading.py\", line 917, in run\n",
            "    self._target(*self._args, **self._kwargs)\n",
            "  File \"/content/gpt4free/quora/api.py\", line 178, in get_bot_thread\n",
            "    chat_data = self.get_bot(bot[\"displayName\"])\n",
            "  File \"/content/gpt4free/quora/api.py\", line 158, in get_bot\n",
            "    r = request_with_retries(self.session.get, url)\n",
            "  File \"/content/gpt4free/quora/api.py\", line 72, in request_with_retries\n",
            "    raise RuntimeError(f\"Failed to download {url} too many times.\")\n",
            "RuntimeError: Failed to download https://poe.com/_next/data/yTDUB_hCavgeEifyloWMf/NeevaAI.json too many times.\n"
          ]
        },
        {
          "output_type": "display_data",
          "data": {
            "text/plain": [
              "<IPython.core.display.HTML object>"
            ],
            "text/html": [
              "<p>Here's a Java function that calculates the nth Fibonacci number using recursion, and prints it. I'll also provide an example of how to use this function in a <code>main</code> method.</p>\n",
              "<pre><code class=\"language-java\">public class Fibonacci {\n",
              "\n",
              "    public static long fib(int n) {\n",
              "        if (n &lt;= 1) {\n",
              "            return n;\n",
              "        } else {\n",
              "            return fib(n - 1) + fib(n - 2);\n",
              "        }\n",
              "    }\n",
              "\n",
              "    public static void main(String[] args) {\n",
              "        int n = 10; // Change this value to find the nth Fibonacci number\n",
              "        long nthFibonacci = fib(n);\n",
              "        System.out.println(&quot;The &quot; + n + &quot;th Fibonacci number is: &quot; + nthFibonacci);\n",
              "    }\n",
              "}\n",
              "</code></pre>\n",
              "<p>To use this code, simply copy and paste it into a file named <code>Fibonacci.java</code>. Then, compile the file using the <code>javac</code> command and run it using the <code>java</code> command.</p>\n",
              "<pre><code class=\"language-bash\">javac Fibonacci.java\n",
              "java Fibonacci\n",
              "</code></pre>\n",
              "<p>The example usage provided calculates and prints the 10th Fibonacci number. You can change the value of the <code>n</code> variable in the <code>main</code> method to find other Fibonacci numbers. Note that this recursive implementation is not the most efficient way to calculate Fibonacci numbers, especially for large values of <code>n</code>. You could use dynamic programming or matrix exponentiation to improve the performance.</p>\n"
            ]
          },
          "metadata": {}
        }
      ]
    },
    {
      "cell_type": "code",
      "source": [],
      "metadata": {
        "id": "jZT8LIPioLhU"
      },
      "execution_count": null,
      "outputs": []
    }
  ]
}